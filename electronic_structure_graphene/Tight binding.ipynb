{
 "cells": [
  {
   "cell_type": "markdown",
   "id": "c10f42dd",
   "metadata": {},
   "source": [
    "For this notebook, we are going to use the following libraries:\n",
    "- `numpy`: To help us build and work with matrices.\n",
    "- `scipy`: Because they have a very useful function to solve the eigenvalue problem for hermitian matrices (`eigh`).\n",
    "- `plotly`: To plot fast, beautiful and interactive plots.\n",
    "- `sisl`: To plot the structures."
   ]
  },
  {
   "cell_type": "code",
   "execution_count": null,
   "id": "32961824",
   "metadata": {},
   "outputs": [],
   "source": [
    "import numpy as np\n",
    "import plotly.graph_objs as go\n",
    "import plotly.express as px\n",
    "from scipy.linalg import eigh\n",
    "import sisl\n",
    "import sisl.viz"
   ]
  },
  {
   "cell_type": "markdown",
   "id": "520051e3",
   "metadata": {},
   "source": [
    "You already used the tight binding model to calculate some simple models analitically. You probably have already noticed that once problems get bigger and interactions become more complex, solving them \"by hand\" becomes prohibitive.\n",
    "\n",
    "That's why those systems are solved numerically with the help of a computer. In this tutorial we are going to learn how to implement a tight binding model for two cases:\n",
    "- A biatomic 1D chain, which you already solved analitically.\n",
    "- Graphene."
   ]
  },
  {
   "cell_type": "markdown",
   "id": "806ac358",
   "metadata": {},
   "source": [
    "Biatomic 1D tight binding\n",
    "-------\n",
    "\n",
    "You have already thought about this system, so we will use it as our example. It is simply a 1D chain of build with two different atoms. So, the unit cell contains two atoms, and the system looks something like this: "
   ]
  },
  {
   "cell_type": "code",
   "execution_count": null,
   "id": "7b7fa043",
   "metadata": {},
   "outputs": [],
   "source": [
    "a = 1.3\n",
    "geometry = sisl.Geometry([[0, 0, 1.5], [a, 0, 1.5]], atoms=[\"H\", \"N\"], sc=[2 * a, 3, 3])\n",
    "\n",
    "geometry.plot(\n",
    "    axes=\"xz\", atoms_scale=3, nsc=[4,1,1],\n",
    ").update_traces(\n",
    "    selector={\"name\": \"Atoms\"}, mode=\"markers+text\", textposition=\"top center\", text=[\"0\", \"1\"] * 4\n",
    ").update_layout(title=\"Biatomic 1D chain\")"
   ]
  },
  {
   "cell_type": "markdown",
   "id": "9c8392a7",
   "metadata": {},
   "source": [
    "In a tight binding of this system, assuming we **only use one orbital per atom**, our hamiltonian ($H$) and overlap ($S$) matrices for a given $\\textbf{k}$ vector ($H_k, S_k$) will be of shape $2x2$. Since we only compute **interactions with first neighbors**, there are only 5 parameters that define our model:\n",
    "- `a`: The lattice vector in the periodic direction (in this case `a` is just a distance because we only care about 1 dimension).\n",
    "- `onsite_0` ($e_0$): The onsite energy of atom 0 (and all its periodic images).\n",
    "- `onsite_1` ($e_1$): The onsite energy of atom 1 (and all its periodic images).\n",
    "- `gamma` ($\\gamma$): The interaction term between orbitals 0 and 1 (hopping). This will determine the non-diagonal terms of the hamiltonian matrix ($H_k$). \n",
    "- `overlap` ($s$): The overlap between orbitals 0 and 1. This will determine the non-diagonal terms of the overlap matrix ($S_k$)\n",
    "\n",
    "Let's go step by step. We will define some values here for all our parameters:"
   ]
  },
  {
   "cell_type": "code",
   "execution_count": null,
   "id": "5c38551b",
   "metadata": {},
   "outputs": [],
   "source": [
    "a = 2.6 \n",
    "onsite_0 = 0.1\n",
    "onsite_1 = -0.1\n",
    "gamma = -2.84\n",
    "overlap = 0.01"
   ]
  },
  {
   "cell_type": "markdown",
   "id": "401bd9fb",
   "metadata": {},
   "source": [
    "And think about how, for a given $\\textbf{k}$, we will calculate our matrices. As we mentioned before, our $H_k$ matrices will be $2x2$ because we only have 2 orbitals per unit cell. So they will look like this:\n",
    "\n",
    "$$\n",
    "H_k = \n",
    "\\begin{bmatrix}\n",
    "H^{00}_k & H^{10}_k\\\\[0.3em]\n",
    "H^{01}_k & H^{11}_k\\\\[0.3em]\n",
    "\\end{bmatrix}\n",
    "$$\n",
    "\n",
    "Now, to calculate each matrix element, we just have to **sum the interaction terms between orbital $i$ and all the periodic images of $j$**, multiplying each term by the appropiate phase.\n",
    "\n",
    "$$\n",
    "H^{ij}_k = \\sum_{R} H_{ij_R}e^{-i kR}\n",
    "$$\n",
    "\n",
    "where the sum is over all the relevant cells (each located at a position $R$) and $e^{-i kR}$ is the phase for the contributions of that particular cell.\n",
    "\n",
    "For our particular case, we will go term by term and think about each element. Let's start thinking about the interaction of the first atom with himself ($H^{00}_k$). Since atom `0` doesn't interact with any periodic image of himself, there's only the contribution from the unit cell ($R=0$):\n",
    "\n",
    "$H^{00}_k = e_0 e^{-ik\\times0} = e_0$\n",
    "\n",
    "The same applies for the interaction of the atom `1` with himself.\n",
    "\n",
    "$H^{11}_k = e_1$\n",
    "\n",
    "Let's now think about the interaction of atom `0` with `1`. There are two images of the atom `1` that are first neighbors of `0`, and therefore interact with a term $\\gamma$: One in the unit cell ($R=0$) and another one one cell to the left ($R = -a$).\n",
    "\n",
    "$H^{01}_k = \\gamma e^{-ik\\times0} + \\gamma e^{-ik\\times(-a)}= \\gamma + \\gamma e^{ika} = \\gamma (1 + e^{ika})$\n",
    "\n",
    "And the interaction of `1` with `0` is basically the same but in this case the images of `0` that are first neighbors are in the unit cell ($R=0$) and the cell to the right ($R = a$).\n",
    "\n",
    "$H^{10}_k = \\gamma e^{-ik\\times0} + \\gamma e^{-ika}= \\gamma + \\gamma e^{-ika} = \\gamma (1 + e^{-ika}) $\n",
    "\n",
    "To sum up, the $H_k$ matrices that we will need to build are:\n",
    " \n",
    "$$\n",
    "H_k = \n",
    "\\begin{bmatrix}\n",
    "e_0 & \\gamma(1 + e^{ika})\\\\[0.3em]\n",
    "\\gamma(1 + e^{-ika}) & e_1\\\\[0.3em]\n",
    "\\end{bmatrix}\n",
    "$$\n",
    "\n",
    "And similarly, for the overlap matrices:\n",
    "\n",
    "$$\n",
    "S_k = \n",
    "\\begin{bmatrix}\n",
    "1 & s(1 + e^{ika})\\\\[0.3em]\n",
    "s(1 + e^{-ika}) & 1\\\\[0.3em]\n",
    "\\end{bmatrix}\n",
    "$$\n",
    "\n",
    "**NOTE**: $1 + e^{ika}$ is the complex conjugate of $1 + e^{-ika}$, so **the matrices are hermitian** (as they should!).\n",
    "\n",
    "So, here's the code that we will need to calculate $H_k$ and $S_k$:"
   ]
  },
  {
   "cell_type": "code",
   "execution_count": null,
   "id": "00334b98",
   "metadata": {},
   "outputs": [],
   "source": [
    "# The k value for which we want to calculate the matrices:\n",
    "k = 0\n",
    "\n",
    "# We define the matrices just as they are described above\n",
    "H_k = np.array([\n",
    "    [onsite_0, gamma * (1 + np.exp(1j*k*a))],\n",
    "    [gamma * (1 + np.exp(-1j*k*a)), onsite_1]\n",
    "])\n",
    "\n",
    "S_k = np.array([\n",
    "    [1, overlap * (1 + np.exp(1j*k*a))],\n",
    "    [overlap * (1 + np.exp(1j*k*a)), 1]\n",
    "])"
   ]
  },
  {
   "cell_type": "markdown",
   "id": "9cce4aa1",
   "metadata": {},
   "source": [
    "And then we could calculate the eigenvalues for them using the `eigh` from `scipy`. "
   ]
  },
  {
   "cell_type": "code",
   "execution_count": null,
   "id": "f64b2f45",
   "metadata": {},
   "outputs": [],
   "source": [
    "# Calculate the eigenvalues (energies, 2 values) and eigenvalues (states, 2 states with 2 coefficients each)\n",
    "eigh(H_k, S_k, lower=False)"
   ]
  },
  {
   "cell_type": "markdown",
   "id": "9e2ae6d0",
   "metadata": {},
   "source": [
    "This routine **assumes that the matrix is hermitian**, and therefore only uses one triangle of the matrix to save memory and time. You can choose whether the \"upper\" or the \"lower\" triangle is used. This means that **you don't actually need to calculate all the elements of the matrices**, just the ones being used!\n",
    "\n",
    "Since we decide to use the upper triangle (`lower=False`), we can actually define our matrices like this (much cleaner):"
   ]
  },
  {
   "cell_type": "code",
   "execution_count": null,
   "id": "3f0dbe7e",
   "metadata": {},
   "outputs": [],
   "source": [
    "# Calculate the total phase for the 01 interaction\n",
    "phase = 1 + np.exp(1j*k*a)\n",
    "\n",
    "# And define the matrices.\n",
    "H_k = np.array([\n",
    "    [onsite_0, gamma * phase],\n",
    "    [0, onsite_1]\n",
    "])\n",
    "\n",
    "S_k = np.array([\n",
    "    [1, overlap * phase],\n",
    "    [0, 1]\n",
    "])"
   ]
  },
  {
   "cell_type": "markdown",
   "id": "ee6fd5ec",
   "metadata": {},
   "source": [
    "And we would get exactly the same results:"
   ]
  },
  {
   "cell_type": "code",
   "execution_count": null,
   "id": "6a93acb9",
   "metadata": {},
   "outputs": [],
   "source": [
    "eigh(H_k, S_k, lower=False)"
   ]
  },
  {
   "cell_type": "markdown",
   "id": "64244877",
   "metadata": {},
   "source": [
    "Note however that this way of building the matrices $H_k$ and $S_k$ **is not flexible at all**!! It is only valid for **this particular system and with only first neighbor interactions**. If you want to write a more reusable tight binding code, you might have probably build a list of neighbours and **perform the sum inside the code** by looping through this list.\n",
    "\n",
    "### Calculating the band structure\n",
    "\n",
    "Once we know how to build the matrices, our first goal is to **calculate the band structure of the system**. The band structure is nothing more than the eigenvalues obtained by solving $S_k^{-1}H_k\\phi = E_k\\phi$ for each $\\textbf{k}$ of the path that we are interested in. In this case, since there's only periodicity in 1 direction, the only interesting path will be from Gamma ( $\\textbf{k}= (0, 0, 0)$ ) to the end of the first Brillouin Zone ( $\\textbf{k} = (\\pi/a, 0, 0) $ ).\n",
    "\n",
    "So, we will now define a function that calculates the band structure just by looping through all the k points required. We will need to prepare a numpy array to store all the eigenvalues and fill it as we loop."
   ]
  },
  {
   "cell_type": "code",
   "execution_count": null,
   "id": "50d69af3",
   "metadata": {},
   "outputs": [],
   "source": [
    "def biatomic_chain_bands(a, nkpoints, onsite_0=0.1, onsite_1=-0.1, gamma=-2.84, overlap=0.01):\n",
    "    \"\"\"Function that implements the tight binding model for a biatomic chain.\n",
    "    \n",
    "    It uses only the first neighbours approximation, and only one orbital per\n",
    "    atom is considered.\n",
    "    \n",
    "    The path used for the bands is Gamma ([0,0,0]) to X ([pi/a, 0, 0]).\n",
    "    \n",
    "    Parameters\n",
    "    ----------\n",
    "    a: float\n",
    "        Size of the cell (in Ang)\n",
    "    nkpoints: int\n",
    "        Number of k points that the path should contain.\n",
    "        Points will be uniformly distributed.\n",
    "    onsite_0: float, optional\n",
    "        Onsite energy for atom 0 (in eV).\n",
    "    onsite_1: float, optional\n",
    "        Onsite energy for atom 1 (in eV).\n",
    "    gamma: float, optional\n",
    "        Hopping term between first neighbors.\n",
    "    overlap: float, optional\n",
    "        Overlap term between first neighbors.\n",
    "        \n",
    "    Returns\n",
    "    -------\n",
    "    np.array of shape (nkpoints, )\n",
    "        The k values used for the path (only the X component of the k vector is returned).\n",
    "    np.array of shape (nkpoints, 2)\n",
    "        The energies of the eigenstates for the whole path (in eV). \n",
    "        Each row (k point) contains two eigenvalues.\n",
    "    \"\"\"\n",
    "    # Get all the k values that we are going to use.\n",
    "    ks = np.linspace(0, np.pi/a, nkpoints)\n",
    "    # Initialize the eigenvalues array, where we will store everything.\n",
    "    eigenvalues = np.zeros((nkpoints, 2))\n",
    "\n",
    "    # We can start looping through all the K points to get the eigenvalues for each of them.\n",
    "    for i, k in enumerate(ks):\n",
    "        # For each k point, we basically do what we had defined previously\n",
    "        phase = 1 + np.exp(1j*k*a)\n",
    "        \n",
    "        H_k = np.array([\n",
    "            [onsite_0, gamma * phase],\n",
    "            [0, onsite_1]\n",
    "        ])\n",
    "\n",
    "        S_k = np.array([\n",
    "            [1, overlap * phase],\n",
    "            [0, 1]\n",
    "        ])\n",
    "\n",
    "        # Finally, diagonalize and extract the eigenvalues.\n",
    "        k_eigenvalues, k_eigenvecs = eigh(H_k, S_k, lower=False)\n",
    "        # And store them in our array.\n",
    "        eigenvalues[i, :] = k_eigenvalues\n",
    "    \n",
    "    # We are done looping, just return our results\n",
    "    return ks, eigenvalues"
   ]
  },
  {
   "cell_type": "markdown",
   "id": "fecf2f82",
   "metadata": {},
   "source": [
    "We can now execute this function and we would get both the ks used and the energies obtained for each k:"
   ]
  },
  {
   "cell_type": "code",
   "execution_count": null,
   "id": "0d2619ce",
   "metadata": {},
   "outputs": [],
   "source": [
    "# Let's do only 5 k points for now to visualize the output easily\n",
    "biatomic_chain_bands(2.6, 5)"
   ]
  },
  {
   "cell_type": "markdown",
   "id": "5938aa98",
   "metadata": {},
   "source": [
    "See how we get the 5 k values used, and array containing, for each k point, 2 energy values.\n",
    "\n",
    "The only thing that we need now to plot the bands is storing the results"
   ]
  },
  {
   "cell_type": "code",
   "execution_count": null,
   "id": "80aba7bc",
   "metadata": {},
   "outputs": [],
   "source": [
    "k, E = biatomic_chain_bands(2.6, 500)"
   ]
  },
  {
   "cell_type": "markdown",
   "id": "8b954645",
   "metadata": {},
   "source": [
    "And displaying them"
   ]
  },
  {
   "cell_type": "code",
   "execution_count": null,
   "id": "d5cad638",
   "metadata": {},
   "outputs": [],
   "source": [
    "fig = go.Figure()\n",
    "for vals in E.T:\n",
    "    fig.add_scatter(x=k, y=vals)\n",
    "fig"
   ]
  },
  {
   "cell_type": "markdown",
   "id": "45f79026",
   "metadata": {},
   "source": [
    "Notice how you might as well have defined a function to directly plot the bands. Having the ks and eigenvalues is useful to do other analysis though.\n",
    "\n",
    "We can, for example, plot an histogram of the states:"
   ]
  },
  {
   "cell_type": "code",
   "execution_count": null,
   "id": "dc749e94",
   "metadata": {},
   "outputs": [],
   "source": [
    "px.histogram(E, nbins=400)"
   ]
  },
  {
   "cell_type": "markdown",
   "id": "de043fa4",
   "metadata": {},
   "source": [
    "**Questions**: Which property does this plot represent? How could we make it smoother?"
   ]
  },
  {
   "cell_type": "markdown",
   "id": "c4f010d2",
   "metadata": {},
   "source": [
    "Graphene tight binding\n",
    "-------\n",
    "\n",
    "Now that we have understood how to code a tight binding for the 1D biatomic chain, we will move to a slightly more complex, but more interesting case: graphene.\n",
    "\n",
    "Graphene has a 2D honeycomb lattice, which will make our $\\textbf{k}$ and $\\textbf{R}$ vectors instead of scalars.\n",
    "\n",
    "Here's a sketch of the graphene system:"
   ]
  },
  {
   "cell_type": "code",
   "execution_count": null,
   "id": "64e8222f",
   "metadata": {},
   "outputs": [],
   "source": [
    "geom = sisl.geom.graphene()\n",
    "geom.plot(\n",
    "    axes=\"xy\", nsc=[2,2,1], atoms_scale=3, atoms_style={\"color\": [\"gray\", \"blue\"]}\n",
    ").update_traces(\n",
    "    selector={\"name\": \"Atoms\"}, mode=\"markers+text\", textposition=\"top center\", text=[\"0\", \"1\"] * 4\n",
    ").update_layout(title=\"Graphene\")"
   ]
  },
  {
   "attachments": {
    "image.png": {
     "image/png": "[encoded data removed]"
    }
   },
   "cell_type": "markdown",
   "id": "e64475b5",
   "metadata": {},
   "source": [
    "Using the experience from the previous case, you should now implement a function to calculate the bands for graphene and then plot them.\n",
    "\n",
    "For reference, here's graphene's lattice (a) and reciprocal lattice (b):\n",
    "![image.png](attachment:image.png)\n",
    "\n",
    "The most common path for the band structure of graphene is: $\\Gamma > M > K$\n",
    "\n",
    "Try to follow the same thought process that we used in the 1D chain, but this time for graphene. Following, we provide you with a skeleton of the function that you must implement:"
   ]
  },
  {
   "cell_type": "code",
   "execution_count": null,
   "id": "7009da69",
   "metadata": {},
   "outputs": [],
   "source": [
    "def graphene_bands(...):\n",
    "    \"\"\"Explain your function in one line\n",
    "    \n",
    "    Maybe provide extra info here?\n",
    "    \n",
    "    Parameters\n",
    "    ----------\n",
    "    Document what each parameter does.\n",
    "        \n",
    "    Returns\n",
    "    -------\n",
    "    Document what the function returns\n",
    "    \"\"\"\n",
    "    # Somehow, get all the k values that you need for the path\n",
    "    ks = ...\n",
    "    # Initialize the eigenvalues array, where we will store everything.\n",
    "    # You need to figure out which shape should this array have\n",
    "    eigenvalues = np.zeros(...)\n",
    "\n",
    "    # Then loop through all the k points\n",
    "    for i, k in enumerate(ks):\n",
    "        # Somehow build the hamiltonian and overlap matrices for that k point\n",
    "        # You can think about this in a different cell to test your implementation.\n",
    "        H_k = ...\n",
    "        S_k = ...\n",
    "\n",
    "        # Finally, diagonalize and extract the eigenvalues.\n",
    "        k_eigenvalues, k_eigenvecs = eigh(H_k, S_k, lower=False)\n",
    "        # And store them in our array.\n",
    "        eigenvalues[i, :] = k_eigenvalues\n",
    "    \n",
    "    # We are done looping, just return our results\n",
    "    return ks, eigenvalues"
   ]
  },
  {
   "cell_type": "markdown",
   "id": "9fa82d54",
   "metadata": {},
   "source": [
    "Once your function works, plot the bands and see if you get the dirac cone!"
   ]
  },
  {
   "cell_type": "markdown",
   "id": "012e26d1",
   "metadata": {},
   "source": [
    "**Bonus points**: You could reuse this function by slightly modyfing it to calculate **h-BN** instead of **graphene**.\n",
    "\n",
    "**Bonus points (2)**: Sample a 2D space of k values to get their eigenvalues. Then you can plot a 2D band structure, which looks very nice. See [here](https://plotly.com/python/3d-surface-plots/) to understand how to plot a surface with plotly."
   ]
  }
 ],
 "metadata": {
  "kernelspec": {
   "display_name": "Python 3 (ipykernel)",
   "language": "python",
   "name": "python3"
  },
  "language_info": {
   "codemirror_mode": {
    "name": "ipython",
    "version": 3
   },
   "file_extension": ".py",
   "mimetype": "text/x-python",
   "name": "python",
   "nbconvert_exporter": "python",
   "pygments_lexer": "ipython3",
   "version": "3.13.1"
  }
 },
 "nbformat": 4,
 "nbformat_minor": 5
}
