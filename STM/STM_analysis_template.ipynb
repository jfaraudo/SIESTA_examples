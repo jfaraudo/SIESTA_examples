{
 "cells": [
  {
   "cell_type": "markdown",
   "id": "af789607-b778-4f61-8fc8-6127b4028459",
   "metadata": {},
   "source": [
    "**CONSTANT HEIGHT STM IMAGES**\n",
    "------------------------------\n",
    "\n",
    "\n",
    "Theory Background\n",
    "-----------------\n",
    "\n",
    "Prediction of STM images requires a knowledge of the **electronic structure** of the molecule and a theory of how STM works.\n",
    "\n",
    "The standard theory of how STM works is based on the Tersoff-Hammann aproximation (https://journals.aps.org/prl/pdf/10.1103/PhysRevLett.50.1998):\n",
    "**the tunneling current is proportional to the local density of states (LDOS)**:\n",
    "\n",
    "$$\n",
    "I(\\vec{r}, V) \\propto \\int_0^V LDOS(\\vec{r}, E_f - V + \\epsilon) \\,d\\epsilon\\\n",
    "$$\n",
    "The LDOS at a certain energy is calculated from the electron density, computed as $\\psi(\\vec{r}) \\psi^*(\\vec{r})$, considering only  wavefunctions at that energy.\n",
    "\n",
    "The value of the tip bias V determines **which states are explored**:  \n",
    "\n",
    "$V = V_{tip} - V_{sample} > 0$ : sample electrons go to the tip, so the images **show occupied states**.\n",
    "\n",
    "$V = V_{tip} - V_{sample} < 0$ : tip electrons go to the sample, so the images **show unoccupied states**.\n",
    "\n",
    "In summary, to compute constant height STM images, we need:\n",
    "\n",
    "1.- Obtain atomic coordinates (for example, from a previous geometry optimization calculation)\n",
    "\n",
    "2.- Compute the eigenstates (wavefunction coefficients) and eigenvalues (energies). We will use **SIESTA** for this.\n",
    "\n",
    "3.- Compute electron density of selected states and compute the STM current $I(\\vec{r}, V)$ for any point in space $\\vec{r}$ (at a constant height $z$), given the voltage bias $V$. We will use **python** for this.\n",
    "\n",
    "$$\n",
    "I(\\vec{r}, V) \\propto \\int_0^V \\sum_{i} \\left[n(-V + E, \\epsilon_i) *  \\psi_i(\\vec{r}) \\psi_i^*(\\vec{r})\\right] \\,dE\\\n",
    "$$"
   ]
  },
  {
   "cell_type": "markdown",
   "id": "1656f9cb-2b04-4499-876b-e847ccb84482",
   "metadata": {},
   "source": [
    "Python implementation of STM simulation\n",
    "---------------------------------------\n",
    "We first import of required libraries"
   ]
  },
  {
   "cell_type": "code",
   "execution_count": null,
   "id": "b348c47b-4cf1-4147-ad0d-6c21c2980b53",
   "metadata": {},
   "outputs": [],
   "source": [
    "import sisl\n",
    "from sisl import *\n",
    "import sisl.viz\n",
    "import numpy as np\n",
    "import matplotlib.pyplot as plt"
   ]
  },
  {
   "cell_type": "markdown",
   "id": "3bce119a-ac3c-4eeb-8209-86d8884817c5",
   "metadata": {},
   "source": [
    "**Check Structure and perform SIESTA calculation**\n",
    "\n",
    "You need atomic coordinates to start (from a previous geometry optimization, for example), centered in the simulation cell. \n",
    "Once you have your molecule structure, you will need the Hamiltonian.\n",
    "\n",
    "If you do not have it you can just run a single calculation from the fdf of the structure telling siesta to store the Hamiltonian using `SaveHS true  `.\n"
   ]
  },
  {
   "cell_type": "code",
   "execution_count": null,
   "id": "712c7d3e-9eb8-4f08-b47c-5e59192be6c9",
   "metadata": {},
   "outputs": [],
   "source": [
    "benzene=Geometry.read(\"input/optimization.xyz\")"
   ]
  },
  {
   "cell_type": "code",
   "execution_count": null,
   "id": "0232a0e7-cf70-45cd-a020-77717ca21d00",
   "metadata": {},
   "outputs": [],
   "source": [
    "benzene.plot(axes=\"xy\")"
   ]
  },
  {
   "cell_type": "code",
   "execution_count": null,
   "id": "b389aeb3-ec65-4ff2-8d26-c3c7183b093d",
   "metadata": {},
   "outputs": [],
   "source": [
    "ben_centered=benzene.move((7,7,5))"
   ]
  },
  {
   "cell_type": "code",
   "execution_count": null,
   "id": "243977c3-9d1d-4f41-b8c6-7e117eee34d4",
   "metadata": {},
   "outputs": [],
   "source": [
    "ben_centered.plot()"
   ]
  },
  {
   "cell_type": "code",
   "execution_count": null,
   "id": "903d5172-9f8c-4eac-b38a-40103b23321a",
   "metadata": {},
   "outputs": [],
   "source": [
    "ben_centered.write(\"structure.fdf\")"
   ]
  },
  {
   "cell_type": "markdown",
   "id": "d5dfc93d-4b7e-470f-906e-1716bd22efaa",
   "metadata": {},
   "source": [
    "## Analysis of SIESTA Results\n",
    "**Load SIESTA Calculation**\n",
    "\n",
    "Once the SIESTA run has finished, to load SIESTA results into python you can do:\n",
    "\n",
    "```python\n",
    "sisl.get_sile(\"path/to/my/file.fdf\").read_hamiltonian()\n",
    "```\n",
    "\n",
    "as we have done in previous lab sessions."
   ]
  },
  {
   "cell_type": "code",
   "execution_count": null,
   "id": "c7b462a9-64e9-4453-a654-2108fff9fe5f",
   "metadata": {},
   "outputs": [],
   "source": [
    "fdf = get_sile(\"run/stm.fdf\")"
   ]
  },
  {
   "cell_type": "code",
   "execution_count": null,
   "id": "0cbd9c9b-ec7b-4238-b112-0703aa6aa113",
   "metadata": {},
   "outputs": [],
   "source": [
    "H = fdf.read_hamiltonian()"
   ]
  },
  {
   "cell_type": "markdown",
   "id": "00a764a5-46b2-4a56-a82c-8640c5da458f",
   "metadata": {},
   "source": [
    "## Eigenstates\n",
    "\n",
    "Once you have a hamiltonian, you can get all Eigenstates with `H.eigenstate()`. Then you can loop this object to get each individual eigenstate. \n",
    "- Each eigenstate has its energy stored under the `.eig` property.\n",
    "- We can find the HOMO and LUMO.\n",
    "- We can use the `.dos`  method to obtain the density of states DOS(E).\n",
    "- In sisl we can plot pdos directly in a given Energy range with something like `H.plot.pdos(data_Erange=[-10,10],nE=1200,Erange=[-10,10]) `"
   ]
  },
  {
   "cell_type": "code",
   "execution_count": null,
   "id": "ea25b742-0173-4bd9-895c-e1759159f043",
   "metadata": {},
   "outputs": [],
   "source": [
    "es=H.eigenstate()"
   ]
  },
  {
   "cell_type": "code",
   "execution_count": null,
   "id": "09ac0e20-6c52-4b18-b5c5-1c34e6e52ff0",
   "metadata": {},
   "outputs": [],
   "source": [
    "idx_lumo = (es.eig > 0).nonzero()[0][0] #trick to obtain the LUMO as first positive eigenvalue"
   ]
  },
  {
   "cell_type": "code",
   "execution_count": null,
   "id": "94b8e306-5422-44e0-be9d-8824d36d3599",
   "metadata": {},
   "outputs": [],
   "source": [
    "print(\"HOMO E=\",es.eig[idx_lumo-1],\" eV\")\n",
    "print(\"LUMO E=\",es.eig[idx_lumo],\" eV\")"
   ]
  },
  {
   "cell_type": "code",
   "execution_count": null,
   "id": "ce522bb8-06c7-473e-9b7f-b8ac812811e8",
   "metadata": {},
   "outputs": [],
   "source": [
    "E = np.linspace(-5, 5, 1000)\n",
    "plt.plot(E, es.DOS(E))\n",
    "plt.xlabel(r\"$E - E_F$ [eV]\")\n",
    "plt.ylabel(r\"DOS [1/eV]\");"
   ]
  },
  {
   "cell_type": "markdown",
   "id": "9d23e4a5-aff7-4c37-9cb9-62931fbbec40",
   "metadata": {},
   "source": [
    "-----------------------------------------------------------------------------------\n",
    "## Plotting Local Density of States\n",
    "\n",
    "Create a grid and fill the grid with LDOS"
   ]
  },
  {
   "cell_type": "markdown",
   "id": "48965f87-9cdf-4a93-99cb-413312e0915c",
   "metadata": {},
   "source": [
    "**To compute wavefunctions on the grid:**\n",
    "\n",
    "To compute $\\psi (\\vec{r})$ you need three things.\n",
    "\n",
    "1. **The eigenstate coefficients.** Once you have a hamiltonian, you can get all of them with `H.eigenstate()`. Then you can loop this object to get each individual eigenstate. Each eigenstate has its energy stored under the `.eig` property.\n",
    "2. **A grid of points in space.** You can create one with `sisl.Grid(geometry, shape=(100, 100, 100))`. This will create a grid of $100x100x100$ points within the cell of your geometry.\n",
    "3. **A function to project the wavefunction into the grid.** The eigenstate object has a `wavefunction` method ([docs](https://zerothi.github.io/sisl/api/generated/sisl.physics.electron.EigenstateElectron.html#sisl.physics.electron.EigenstateElectron.wavefunction)) that will project the wavefunction into an already initialized grid.\n",
    "\n",
    "Remember that we have done this already on the first SIESTA lab, with a water molecule.\n",
    "\n",
    "Once you have the wavefunction, you can also calculate the electron density $\\psi_i(\\vec{r}) \\psi_i^*(\\vec{r})$.\n"
   ]
  },
  {
   "cell_type": "code",
   "execution_count": null,
   "id": "ee785ded-ce00-4bbb-a935-9378114d0f63",
   "metadata": {},
   "outputs": [],
   "source": [
    "grid1=Grid((100,100,100),geometry=molec)\n",
    "grid1.plot(axes=\"xy\")"
   ]
  },
  {
   "cell_type": "markdown",
   "id": "6f646364-6f49-421f-822f-33068789220f",
   "metadata": {},
   "source": [
    "Try how a particular state looks like. For example:"
   ]
  },
  {
   "cell_type": "code",
   "execution_count": null,
   "id": "3a704186-e65f-4b1c-802b-23ef0c049c9b",
   "metadata": {},
   "outputs": [],
   "source": [
    "grid1.fill(0)\n",
    "es[14].wavefunction(grid1)\n",
    "grid1.plot(axes=\"xy\")"
   ]
  },
  {
   "cell_type": "markdown",
   "id": "6226e36e-a009-4a8e-a931-ad24fe53a331",
   "metadata": {},
   "source": [
    "Calculate electron density for a particular state"
   ]
  },
  {
   "cell_type": "code",
   "execution_count": null,
   "id": "36c5c0a8-50e9-4956-bbc6-b3ea7336ae2a",
   "metadata": {},
   "outputs": [],
   "source": [
    "grid2=grid1*grid1.grid.conj()\n",
    "grid2.plot(axes=\"xy\")"
   ]
  },
  {
   "cell_type": "markdown",
   "id": "31aef165-8317-4600-a3fb-472d504b8043",
   "metadata": {},
   "source": [
    "Calculate local electron density adding all states in a certain range"
   ]
  },
  {
   "cell_type": "code",
   "execution_count": null,
   "id": "d2503ab2-1234-4401-954f-f7b05e2c06e9",
   "metadata": {},
   "outputs": [],
   "source": [
    "G=sisl.Grid((100,100,100), geometry = molec)\n",
    "G_t=sisl.Grid((100,100,100), geometry=molec)"
   ]
  },
  {
   "cell_type": "code",
   "execution_count": null,
   "id": "32d422a2-2688-4c8c-b295-a261c6bd0652",
   "metadata": {},
   "outputs": [],
   "source": [
    "for n in range(idx_lumo-4,idx_lumo):\n",
    "    print(\"adding state\",n)\n",
    "    G_t.fill(0)\n",
    "    es[n].wavefunction(G_t)\n",
    "    G = G+ G_t*G_t.grid.conj()\n",
    "print(\"Plotting...\")\n",
    "G.plot(axes=\"xy\")\n",
    "    "
   ]
  },
  {
   "cell_type": "markdown",
   "id": "92915e26-b24f-4675-9378-65f8a94c9c87",
   "metadata": {},
   "source": [
    "# STM images #\n",
    "\n",
    "**Remember**: The value of the tip bias V determines **which states are explored**:  \n",
    "\n",
    "$V = V_{tip} - V_{sample} > 0$ : sample electrons go to the tip, so the images **show occupied states**.\n",
    "\n",
    "$V = V_{tip} - V_{sample} < 0$ : tip electrons go to the sample, so the images **show unoccupied states**.\n",
    "\n",
    "Now we can create a function `STM_grid(H, V)` that creates a grid adding all the states that contribute to the electron density $\\psi_i(\\vec{r}) \\psi_i^*(\\vec{r})$ relevant to the STM image.\n",
    "\n",
    "The `STM_grid(H, V)` function need the Hamitonian (the object `H`) and the value of the voltage `V`."
   ]
  },
  {
   "cell_type": "code",
   "execution_count": null,
   "id": "9907a489-0d07-4c49-9690-bc2153ddea22",
   "metadata": {},
   "outputs": [],
   "source": [
    "def STM_grid(H, V):\n",
    "    gridT = sisl.Grid((100, 100, 100), geometry=molec)\n",
    "    grid = sisl.Grid((100, 100, 100), geometry=molec)\n",
    "    gridT.fill(0)\n",
    "    E=-V\n",
    "    for i in range(0,len(es)):\n",
    "        #Negative V: electrons go from tip to sample filling unoccupied states from 0 to E\n",
    "        if 0<es[i].eig<E:    \n",
    "            grid.fill(0)\n",
    "            es[i].wavefunction(grid)\n",
    "            GT=grid*grid.grid.conj()\n",
    "            gridT=gridT+GT\n",
    "        #Positive V: electrons with energies between E and 0 leave the sample and go to the tip\n",
    "        if E<es[i].eig<0:    \n",
    "            grid.fill(0)\n",
    "            es[i].wavefunction(grid)\n",
    "            GT=grid*grid.grid.conj()\n",
    "            gridT=gridT+GT \n",
    "    result=gridT\n",
    "    return result"
   ]
  },
  {
   "cell_type": "code",
   "execution_count": null,
   "id": "ab8db9a3-93fb-4da9-80e3-df50629d5582",
   "metadata": {},
   "outputs": [],
   "source": [
    "V=STM_grid(H, 5)"
   ]
  },
  {
   "cell_type": "code",
   "execution_count": null,
   "id": "3cb5262a-74ad-4c86-83ea-dbe6654fa54f",
   "metadata": {},
   "outputs": [],
   "source": [
    "V.plot(axes=\"x,y\")"
   ]
  },
  {
   "cell_type": "markdown",
   "id": "5a7a6efb-e40d-4b31-aaa0-d144d74b0fc6",
   "metadata": {},
   "source": [
    "Plots can be made incluing different heights"
   ]
  },
  {
   "cell_type": "code",
   "execution_count": null,
   "id": "1045d661-4f39-473d-ab3d-b990dbd2109a",
   "metadata": {},
   "outputs": [],
   "source": [
    "z=7\n",
    "V.plot(axes='x,y', z_range=[z- 0.1, z + 0.1])"
   ]
  },
  {
   "cell_type": "markdown",
   "id": "98b7e470-a41c-4cd2-b5eb-3219fa8f7f35",
   "metadata": {},
   "source": [
    "**To plot the STM images at a certain height:**\n",
    "\n",
    "A function is provided to plot molecules at multiple heights. You can use it as it is or modify it as you wish.\n",
    "\n",
    "*Note*: If you have time, you can modify this function to create a plots at multiple voltages. Even a grid of plots at multiple voltages and multiple heights!"
   ]
  },
  {
   "cell_type": "code",
   "execution_count": null,
   "id": "e98cab79-c466-4611-9577-4019817d3a59",
   "metadata": {},
   "outputs": [],
   "source": [
    "# The helper function\n",
    "def plot_STM_images(\n",
    "    LDOS_grid: sisl.Grid, \n",
    "    min_height: int = 0, \n",
    "    max_height: int = 2,\n",
    "    steps: int = 9,\n",
    "    crange = None,\n",
    "    colorscale: str = None\n",
    "):\n",
    "    \"\"\"Plots constant height STM images at multiple heights\n",
    "\n",
    "    Parameters\n",
    "    ----------\n",
    "    LDOS_grid:\n",
    "        A grid containing the LDOS corresponding to the voltage that you\n",
    "        want to plot, for ALL SPACE.\n",
    "    min_height:\n",
    "        The height of the first image.\n",
    "    max_height:\n",
    "        The height of the last image.\n",
    "    steps:\n",
    "        The number of steps between the first and the last image.\n",
    "    log:\n",
    "        Whether to plot the log of the values.\n",
    "    crange:\n",
    "        The range of the colorscale. E.g. [0, 2]. If None, it is computed\n",
    "        from the minimum and maximum values of the data.\n",
    "    colorscale:\n",
    "        The plotly colorscale to use.\n",
    "\n",
    "    Examples\n",
    "    ----------\n",
    "\n",
    "    This function should be used like:\n",
    "    >>> grid = ...compute the LDOS in the grid.\n",
    "    >>> plot_STM_images(grid)\n",
    "    \"\"\"\n",
    "\n",
    "    # Determine all the heights that the user wants to plot\n",
    "    heights = np.linspace(min_height, max_height, steps)\n",
    "    # Get the position of the benzene molecule\n",
    "    z_0 = V.geometry.xyz[:, 2].max()\n",
    "    \n",
    "    # Initialize a list of plots\n",
    "    plots = []\n",
    "    coloraxes = []\n",
    "    # Loop through the heights, and for each of them we will create a plot.\n",
    "    for height in heights:\n",
    "        # Get the z for which we want the LDOS (benzene position + height)\n",
    "        z = z_0 + height\n",
    "        \n",
    "        # Get the plot for this height\n",
    "        plot = LDOS_grid.plot(axes='x,y', z_range=[z - 0.1, z + 0.1], crange=crange, colorscale=colorscale)\n",
    "\n",
    "        # And append it to the list\n",
    "        plots.append(plot)\n",
    "\n",
    "    # Merge all the plots, with some extra arguments to beautify the plot.\n",
    "    return sisl.viz.merge_plots(\n",
    "        *plots, \n",
    "        composite_method=\"subplots\", \n",
    "        arrange=\"square\", \n",
    "        subplot_titles=[f\"Height = {height} Ang\" for height in heights],\n",
    "        horizontal_spacing=0,\n",
    "        vertical_spacing=0.05\n",
    "    ).update_xaxes(\n",
    "        visible=False\n",
    "    ).update_yaxes(\n",
    "        visible=False\n",
    "    ).update_layout(\n",
    "        height=900, title=f\"Constant height STM images\",\n",
    "    )"
   ]
  },
  {
   "cell_type": "code",
   "execution_count": null,
   "id": "ed34907a-6c1c-4b3c-8f6b-5d479e76aa4b",
   "metadata": {},
   "outputs": [],
   "source": [
    "V=STM_grid(H, 5)\n",
    "plot_STM_images(V)"
   ]
  },
  {
   "cell_type": "code",
   "execution_count": null,
   "id": "ef7b37b8-ee72-4839-b2e3-6020e706a581",
   "metadata": {},
   "outputs": [],
   "source": [
    "V=STM_grid(H, -5)\n",
    "plot_STM_images(V)"
   ]
  },
  {
   "cell_type": "code",
   "execution_count": null,
   "id": "35aaf12f-3b25-4f4c-b0b2-9df06fa69b4e",
   "metadata": {},
   "outputs": [],
   "source": []
  }
 ],
 "metadata": {
  "kernelspec": {
   "display_name": "Python 3 (ipykernel)",
   "language": "python",
   "name": "python3"
  },
  "language_info": {
   "codemirror_mode": {
    "name": "ipython",
    "version": 3
   },
   "file_extension": ".py",
   "mimetype": "text/x-python",
   "name": "python",
   "nbconvert_exporter": "python",
   "pygments_lexer": "ipython3",
   "version": "3.13.1"
  }
 },
 "nbformat": 4,
 "nbformat_minor": 5
}
