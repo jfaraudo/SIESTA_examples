{
 "cells": [
  {
   "cell_type": "markdown",
   "id": "af789607-b778-4f61-8fc8-6127b4028459",
   "metadata": {},
   "source": [
    "**CONSTANT HEIGHT STM IMAGES**\n",
    "------------------------------\n",
    "\n",
    "\n",
    "Theory Background\n",
    "-----------------\n",
    "\n",
    "Prediction of STM images requires a knowledge of the **electronic structure** of the molecule and a theory of how STM works.\n",
    "\n",
    "The standard theory of how STM works is based on the Tersoff-Hammann aproximation (https://journals.aps.org/prl/pdf/10.1103/PhysRevLett.50.1998):\n",
    "**the tunneling current is proportional to the local density of states (LDOS)**:\n",
    "\n",
    "$$\n",
    "I(\\vec{r}, V) \\propto \\int_0^V LDOS(\\vec{r}, E_f - V + \\epsilon) \\,d\\epsilon\\\n",
    "$$\n",
    "The LDOS at a certain energy is calculated from the electron density, computed as $\\psi(\\vec{r}) \\psi^*(\\vec{r})$, considering only  wavefunctions at that energy.\n",
    "\n",
    "The value of the tip bias V determines **which states are explored**:  \n",
    "\n",
    "$V = V_{tip} - V_{sample} > 0$ : sample electrons go to the tip, so the images **show occupied states**.\n",
    "\n",
    "$V = V_{tip} - V_{sample} < 0$ : tip electrons go to the sample, so the images **show unoccupied states**.\n",
    "\n",
    "In summary, to compute constant height STM images, we need:\n",
    "\n",
    "1.- Obtain atomic coordinates (for example, from a previous geometry optimization calculation)\n",
    "\n",
    "2.- Compute the eigenstates (wavefunction coefficients) and eigenvalues (energies). We will use **SIESTA** for this.\n",
    "\n",
    "3.- Compute electron density of selected states and compute the STM current $I(\\vec{r}, V)$ for any point in space $\\vec{r}$ (at a constant height $z$), given the voltage bias $V$. We will use **python** for this.\n",
    "\n",
    "$$\n",
    "I(\\vec{r}, V) \\propto \\int_0^V \\sum_{i} \\left[n(-V + E, \\epsilon_i) *  \\psi_i(\\vec{r}) \\psi_i^*(\\vec{r})\\right] \\,dE\\\n",
    "$$"
   ]
  },
  {
   "cell_type": "markdown",
   "id": "1656f9cb-2b04-4499-876b-e847ccb84482",
   "metadata": {},
   "source": [
    "Python implementation of STM simulation\n",
    "---------------------------------------\n",
    "We first import of required libraries"
   ]
  },
  {
   "cell_type": "code",
   "execution_count": null,
   "id": "b348c47b-4cf1-4147-ad0d-6c21c2980b53",
   "metadata": {},
   "outputs": [],
   "source": [
    "import sisl\n",
    "from sisl import *\n",
    "import sisl.viz\n",
    "import numpy as np\n",
    "import matplotlib.pyplot as plt"
   ]
  },
  {
   "cell_type": "markdown",
   "id": "d5dfc93d-4b7e-470f-906e-1716bd22efaa",
   "metadata": {},
   "source": [
    "## Analysis of SIESTA Results\n",
    "**Load SIESTA Calculation**\n",
    "\n",
    "Once the SIESTA run has finished, to load SIESTA results into python you can do:\n",
    "\n",
    "```python\n",
    "sisl.get_sile(\"path/to/my/file.fdf\").read_hamiltonian()\n",
    "```\n",
    "\n",
    "as we have done in previous lab sessions."
   ]
  },
  {
   "cell_type": "code",
   "execution_count": null,
   "id": "c7b462a9-64e9-4453-a654-2108fff9fe5f",
   "metadata": {},
   "outputs": [],
   "source": [
    "fdf = get_sile(\"../run/stm.fdf\")"
   ]
  },
  {
   "cell_type": "code",
   "execution_count": null,
   "id": "0cbd9c9b-ec7b-4238-b112-0703aa6aa113",
   "metadata": {},
   "outputs": [],
   "source": [
    "H = fdf.read_hamiltonian()"
   ]
  },
  {
   "cell_type": "code",
   "execution_count": null,
   "id": "81d724f1-7bc4-4b37-a0de-f31e78c9276f",
   "metadata": {},
   "outputs": [],
   "source": [
    "molec = H.geometry"
   ]
  },
  {
   "cell_type": "code",
   "execution_count": null,
   "id": "2a4b20f6-776d-4ed8-98e4-8538ef641f9a",
   "metadata": {},
   "outputs": [],
   "source": [
    "molec.plot(axes=\"xy\")"
   ]
  },
  {
   "cell_type": "markdown",
   "id": "00a764a5-46b2-4a56-a82c-8640c5da458f",
   "metadata": {},
   "source": [
    "## Eigenstates\n",
    "\n",
    "Once you have a hamiltonian, you can get all Eigenstates with `H.eigenstate()`. Then you can loop this object to get each individual eigenstate. \n",
    "- Each eigenstate has its energy stored under the `.eig` property.\n",
    "- We can find the HOMO and LUMO.\n",
    "- We can use the `.dos`  method to obtain the density of states DOS(E).\n",
    "- In sisl we can plot pdos directly in a given Energy range with something like `H.plot.pdos(data_Erange=[-10,10],nE=1200,Erange=[-10,10]) `"
   ]
  },
  {
   "cell_type": "code",
   "execution_count": null,
   "id": "ea25b742-0173-4bd9-895c-e1759159f043",
   "metadata": {},
   "outputs": [],
   "source": [
    "es=H.eigenstate()"
   ]
  },
  {
   "cell_type": "code",
   "execution_count": null,
   "id": "1ebdb4c0-8a43-4ffe-b660-b2e6d254d64d",
   "metadata": {},
   "outputs": [],
   "source": [
    "es.eig"
   ]
  },
  {
   "cell_type": "code",
   "execution_count": null,
   "id": "09ac0e20-6c52-4b18-b5c5-1c34e6e52ff0",
   "metadata": {},
   "outputs": [],
   "source": [
    "idx_lumo = (es.eig > 0).nonzero()[0][0] #trick to obtain the LUMO as first positive eigenvalue"
   ]
  },
  {
   "cell_type": "code",
   "execution_count": null,
   "id": "755c795f-1760-4926-bf44-4300ac3b797e",
   "metadata": {},
   "outputs": [],
   "source": [
    "print(idx_lumo)"
   ]
  },
  {
   "cell_type": "code",
   "execution_count": null,
   "id": "94b8e306-5422-44e0-be9d-8824d36d3599",
   "metadata": {},
   "outputs": [],
   "source": [
    "print(\"HOMO E=\",es.eig[idx_lumo-1],\" eV\")\n",
    "print(\"LUMO E=\",es.eig[idx_lumo],\" eV\")"
   ]
  },
  {
   "cell_type": "markdown",
   "id": "9d23e4a5-aff7-4c37-9cb9-62931fbbec40",
   "metadata": {},
   "source": [
    "-----------------------------------------------------------------------------------\n",
    "## Plotting Local Density of States\n",
    "\n",
    "Create a grid and fill the grid with LDOS"
   ]
  },
  {
   "cell_type": "markdown",
   "id": "48965f87-9cdf-4a93-99cb-413312e0915c",
   "metadata": {},
   "source": [
    "**To compute wavefunctions on the grid:**\n",
    "\n",
    "To compute $\\psi (\\vec{r})$ you need three things.\n",
    "\n",
    "1. **The eigenstate coefficients.** Once you have a hamiltonian, you can get all of them with `H.eigenstate()`. Then you can loop this object to get each individual eigenstate. Each eigenstate has its energy stored under the `.eig` property.\n",
    "2. **A grid of points in space.** You can create one with `sisl.Grid(geometry, shape=(100, 100, 100))`. This will create a grid of $100x100x100$ points within the cell of your geometry.\n",
    "3. **A function to project the wavefunction into the grid.** The eigenstate object has a `wavefunction` method ([docs](https://zerothi.github.io/sisl/api/generated/sisl.physics.electron.EigenstateElectron.html#sisl.physics.electron.EigenstateElectron.wavefunction)) that will project the wavefunction into an already initialized grid.\n",
    "4. Once you have the wavefunction, you can calculate the electron density $\\psi_i(\\vec{r}) \\psi_i^*(\\vec{r})$.\n",
    "5. The result can be saved in a '.cube' file and plotted with VMD \n",
    "\n",
    "Remember that we have done this already on the first SIESTA lab, with a water molecule and with $C_{60}$.\n"
   ]
  },
  {
   "cell_type": "code",
   "execution_count": null,
   "id": "b1023aa0-d7cd-4ad1-92a6-09bed72db6d0",
   "metadata": {},
   "outputs": [],
   "source": [
    "g = Grid(0.2, lattice=molec.lattice)  #defines a grid matching with our system"
   ]
  },
  {
   "cell_type": "markdown",
   "id": "8137c66b-26be-448a-9e78-9ab8d17819f5",
   "metadata": {},
   "source": [
    "Save a state (for example, LUMO) in cube file"
   ]
  },
  {
   "cell_type": "code",
   "execution_count": null,
   "id": "f781cd63-3813-4fef-8f34-45a12c35d425",
   "metadata": {},
   "outputs": [],
   "source": [
    "es[idx_lumo].wavefunction(g)\n",
    "g.write('LUMO.cube')\n",
    "\n",
    "g.fill(0) # reset the grid values to 0"
   ]
  },
  {
   "cell_type": "markdown",
   "id": "fd60c930-9edb-4b73-b494-28caa34c7406",
   "metadata": {},
   "source": [
    "Save Electron Density"
   ]
  },
  {
   "cell_type": "code",
   "execution_count": null,
   "id": "523279fb-6b7d-4fc0-92be-1011b4a502be",
   "metadata": {},
   "outputs": [],
   "source": [
    "g2 = Grid(0.2, lattice=molec.lattice) "
   ]
  },
  {
   "cell_type": "code",
   "execution_count": null,
   "id": "b7e449b3-b24a-4bc8-a1aa-812b56a7da4a",
   "metadata": {},
   "outputs": [],
   "source": [
    "es[idx_lumo].wavefunction(g)\n",
    "g2=g*g.grid.conj() \n",
    "g2.write('LUMOdens.cube')\n",
    "g2.fill(0) # reset the grid values to 0"
   ]
  },
  {
   "cell_type": "markdown",
   "id": "37540218-c321-4eb8-b5c0-60a568e66238",
   "metadata": {},
   "source": [
    "We can easily save the electron density including a range of states"
   ]
  },
  {
   "cell_type": "code",
   "execution_count": null,
   "id": "32d422a2-2688-4c8c-b295-a261c6bd0652",
   "metadata": {},
   "outputs": [],
   "source": [
    "Gt = Grid(0.2, lattice=molec.lattice) \n",
    "for n in range(idx_lumo-4,idx_lumo):\n",
    "    print(\"adding state\",n)\n",
    "    g.fill(0)\n",
    "    es[n].wavefunction(g)\n",
    "    Gt = Gt + g*g.grid.conj()\n",
    "Gt.write('several_states.cube')\n",
    "Gt.fill(0)\n",
    "\n",
    "    "
   ]
  },
  {
   "cell_type": "markdown",
   "id": "92915e26-b24f-4675-9378-65f8a94c9c87",
   "metadata": {},
   "source": [
    "# STM images #\n",
    "\n",
    "**Remember**: The value of the tip bias V determines **which states are explored**:  \n",
    "\n",
    "$V = V_{tip} - V_{sample} > 0$ : sample electrons go to the tip, so the images **show occupied states**.\n",
    "\n",
    "$V = V_{tip} - V_{sample} < 0$ : tip electrons go to the sample, so the images **show unoccupied states**.\n",
    "\n",
    "Now we can create a function `STM_grid(H, V)` that creates a grid adding all the states that contribute to the electron density $\\psi_i(\\vec{r}) \\psi_i^*(\\vec{r})$ relevant to the STM image.\n",
    "\n",
    "The `STM_grid(H, V)` function need the Hamitonian (the object `H`) and the value of the voltage `V`."
   ]
  },
  {
   "cell_type": "code",
   "execution_count": null,
   "id": "9907a489-0d07-4c49-9690-bc2153ddea22",
   "metadata": {},
   "outputs": [],
   "source": [
    "def STM_grid(H, V):\n",
    "    gridT = sisl.Grid((100, 100, 100), geometry=molec)\n",
    "    grid = sisl.Grid((100, 100, 100), geometry=molec)\n",
    "    gridT.fill(0)\n",
    "    E=-V\n",
    "    for i in range(0,len(es)):\n",
    "        #Negative V: electrons go from tip to sample filling unoccupied states from 0 to E\n",
    "        if 0<es[i].eig<E:    \n",
    "            grid.fill(0)\n",
    "            print(\"adding state\",i)\n",
    "            es[i].wavefunction(grid)\n",
    "            GT=grid*grid.grid.conj()\n",
    "            gridT=gridT+GT\n",
    "        #Positive V: electrons with energies between E and 0 leave the sample and go to the tip\n",
    "        if E<es[i].eig<0:    \n",
    "            grid.fill(0)\n",
    "            print(\"adding state\",i)\n",
    "            es[i].wavefunction(grid)\n",
    "            GT=grid*grid.grid.conj()\n",
    "            gridT=gridT+GT \n",
    "    result=gridT\n",
    "    return result"
   ]
  },
  {
   "cell_type": "markdown",
   "id": "560d146f-dd4f-4ebb-8588-55f03233b521",
   "metadata": {},
   "source": [
    "Calculate and save data. IN VMD you can use isosurface or Volume slice representations"
   ]
  },
  {
   "cell_type": "code",
   "execution_count": null,
   "id": "ab8db9a3-93fb-4da9-80e3-df50629d5582",
   "metadata": {},
   "outputs": [],
   "source": [
    "V=STM_grid(H, 5)"
   ]
  },
  {
   "cell_type": "code",
   "execution_count": null,
   "id": "3d44c1af-3ece-405f-83c6-dc2db0c9b5c5",
   "metadata": {},
   "outputs": [],
   "source": [
    "V.write('STM_5Volt.cube')"
   ]
  },
  {
   "cell_type": "code",
   "execution_count": null,
   "id": "2d2fb9d9-f63c-4c54-97aa-6b30b69d2c89",
   "metadata": {},
   "outputs": [],
   "source": [
    "V=STM_grid(H, -5)\n",
    "V.write('STM_m5Volt.cube')"
   ]
  }
 ],
 "metadata": {
  "kernelspec": {
   "display_name": "Python 3 (ipykernel)",
   "language": "python",
   "name": "python3"
  },
  "language_info": {
   "codemirror_mode": {
    "name": "ipython",
    "version": 3
   },
   "file_extension": ".py",
   "mimetype": "text/x-python",
   "name": "python",
   "nbconvert_exporter": "python",
   "pygments_lexer": "ipython3",
   "version": "3.13.1"
  }
 },
 "nbformat": 4,
 "nbformat_minor": 5
}
